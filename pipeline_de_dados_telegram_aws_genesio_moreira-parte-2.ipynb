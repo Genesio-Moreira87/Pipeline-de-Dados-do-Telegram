{
  "nbformat": 4,
  "nbformat_minor": 0,
  "metadata": {
    "colab": {
      "provenance": [],
      "toc_visible": true
    },
    "kernelspec": {
      "name": "python3",
      "display_name": "Python 3"
    }
  },
  "cells": [
    {
      "cell_type": "markdown",
      "metadata": {
        "id": "KJqp9AANOCtf"
      },
      "source": [
        "<img src=\"https://raw.githubusercontent.com/andre-marcos-perez/ebac-course-utils/main/media/logo/newebac_logo_black_half.png\" alt=\"ebac-logo\">\n",
        "\n",
        "---\n",
        "\n",
        "# **Módulo** | Pipeline de Dados do Telegram II\n",
        "Caderno de **Exercícios**<br>\n",
        "Professor [André Perez](https://www.linkedin.com/in/andremarcosperez/)\n",
        "\n",
        "---"
      ]
    },
    {
      "cell_type": "markdown",
      "metadata": {
        "id": "d9jDtUbDOE1-"
      },
      "source": [
        "# **Tópicos**\n",
        "\n",
        "<ol type=\"1\">\n",
        "  <li>Ingestão;</li>\n",
        "  <li>ETL;</li>\n",
        "  <li>Apresentação;</li>\n",
        "  <li>Storytelling.</li>\n",
        "</ol>"
      ]
    },
    {
      "cell_type": "markdown",
      "metadata": {
        "id": "SmoHgt-lwkpD"
      },
      "source": [
        "---"
      ]
    },
    {
      "cell_type": "markdown",
      "metadata": {
        "id": "GABI6OW8OfQ2"
      },
      "source": [
        "# **Exercícios**"
      ]
    },
    {
      "cell_type": "markdown",
      "metadata": {
        "id": "ne7Ay0HKaGSv"
      },
      "source": [
        "## 1\\. Ingestão"
      ]
    },
    {
      "cell_type": "markdown",
      "metadata": {
        "id": "OQxOVktrzG9I"
      },
      "source": [
        "Replique as atividades da aula 1."
      ]
    },
    {
      "cell_type": "markdown",
      "source": [
        "1.1. Crie um `bucket` no `AWS S3` para o armazenamento de dados crus, não se esqueça de adicionar o sufixo `-raw`."
      ],
      "metadata": {
        "id": "C4_2Q6VxE7bZ"
      }
    },
    {
      "cell_type": "markdown",
      "source": [
        "- Foi realizado a criação do bucket `modulo-42-ebac-telegram-raw`  \n",
        "\n",
        "![](https://github.com/Genesio-Moreira87/Pipeline-de-Dados-do-Telegram/blob/main/images/bucket-modulo-42-ebac-telegram-raw.jpg?raw=true)  "
      ],
      "metadata": {
        "id": "ww3FtiKSfW0o"
      }
    },
    {
      "cell_type": "markdown",
      "source": [
        "1.2. Crie uma função no `AWS Lambda` para recebimento das mensagens e armazenamento no formato JSON no `bucket` de dados crus. Não se esqueça de configurar as variáveis de ambiente e de adicionar as permissão de interação com `AWS S3` no `AWS IAM`."
      ],
      "metadata": {
        "id": "OFamvPQdFJ9V"
      }
    },
    {
      "cell_type": "markdown",
      "source": [
        "- Criação da Função Lambda `modulo-42-ebac-telegram-raw`  \n",
        "\n",
        "![](https://github.com/Genesio-Moreira87/Pipeline-de-Dados-do-Telegram/blob/main/images/Cria%C3%A7%C3%A3o%20da%20fun%C3%A7%C3%A3o%20lambda%20modulo-42-ebac-telegram-raw.jpg?raw=true)  "
      ],
      "metadata": {
        "id": "pvUQI33GkdHD"
      }
    },
    {
      "cell_type": "markdown",
      "source": [
        "- Configuração das Variavéis de Ambiente `AWS_S3_BUCKET` e `TELEGRAM_CHAT_ID`  \n",
        "\n",
        "![](https://github.com/Genesio-Moreira87/Pipeline-de-Dados-do-Telegram/blob/main/images/variaveis%20de%20ambiente%20fun%C3%A7%C3%A3o%20lambda%20modulo-42-ebac-telegram-raw.jpg?raw=true)  "
      ],
      "metadata": {
        "id": "_ZjaBOD9lRpp"
      }
    },
    {
      "cell_type": "markdown",
      "source": [
        "- Permissão no AWS IAM - Foi habilitada a permissão `AmazonS3FullAccess`, o que não é uma boa pratica de segurança, o correto seria a politica de menor previlégio.\n",
        "Mais como estamos utilizando para estudo acadêmico, vamos realizar o fullaccess.\n",
        "\n",
        "![](https://github.com/Genesio-Moreira87/Pipeline-de-Dados-do-Telegram/blob/main/images/AWS%20IAM%20fun%C3%A7%C3%A3o%20lambda%20modulo-42-ebac-telegram-raw.jpg?raw=true)"
      ],
      "metadata": {
        "id": "8t4hj_-Jloru"
      }
    },
    {
      "cell_type": "markdown",
      "source": [
        "> **Nota**: Para testar a função com evento do próprio `AWS Lambda`, substitua o código `message = json.loads(event[\"body\"])` por `message = event`. Lembre-se que o primeiro só faz sentido na integração com o `AWS API Gateway`."
      ],
      "metadata": {
        "id": "E2E14I2YFkUW"
      }
    },
    {
      "cell_type": "markdown",
      "source": [
        "1.3. Crie uma API no `AWS API Gateway` a conecte a função do `AWS Lambda`, conforme apresentado na aula."
      ],
      "metadata": {
        "id": "JoZx3o2QGIx-"
      }
    },
    {
      "cell_type": "markdown",
      "source": [
        "- Foi criada a AWS API Gateway `modulo-42-ebac-telegram-api`, e criado o metodo `POST`  \n",
        "  \n",
        "![](https://github.com/Genesio-Moreira87/Pipeline-de-Dados-do-Telegram/blob/main/images/modulo-42-ebac-telegram-api-gateway.jpg?raw=true)  \n"
      ],
      "metadata": {
        "id": "DaCtl9wtijBN"
      }
    },
    {
      "cell_type": "markdown",
      "source": [
        "> **Nota**: não disponibilize o endereço da API gerada."
      ],
      "metadata": {
        "id": "VRUI7edtGrot"
      }
    },
    {
      "cell_type": "markdown",
      "source": [
        "1.4. Configura o *webhook* do *bot* através do método `setWebhook` da API de *bots* do **Telegram**. utilize o endereço da API criada no `AWS API Gateway`. Utilize o método `getWebhookInfo` para consultar a integração."
      ],
      "metadata": {
        "id": "2QhB4SmjGVDZ"
      }
    },
    {
      "cell_type": "code",
      "source": [
        "from getpass import getpass\n",
        "\n",
        "token = getpass()"
      ],
      "metadata": {
        "colab": {
          "base_uri": "https://localhost:8080/"
        },
        "id": "b7b-U4LdksXt",
        "outputId": "ae8c1f79-aa4d-42ec-ac5b-1813d071acad"
      },
      "execution_count": null,
      "outputs": [
        {
          "name": "stdout",
          "output_type": "stream",
          "text": [
            "··········\n"
          ]
        }
      ]
    },
    {
      "cell_type": "code",
      "source": [
        "from getpass import getpass\n",
        "aws_api_gateway_url = getpass()"
      ],
      "metadata": {
        "colab": {
          "base_uri": "https://localhost:8080/"
        },
        "id": "MT6Mpvt-haT5",
        "outputId": "525be5d0-38a0-4202-e0e8-936d0d07cc80"
      },
      "execution_count": null,
      "outputs": [
        {
          "name": "stdout",
          "output_type": "stream",
          "text": [
            "··········\n"
          ]
        }
      ]
    },
    {
      "cell_type": "code",
      "source": [
        "import json\n",
        "\n",
        "base_url = f'https://api.telegram.org/bot{token}'"
      ],
      "metadata": {
        "id": "gv1rcgIZkjnD"
      },
      "execution_count": null,
      "outputs": []
    },
    {
      "cell_type": "markdown",
      "source": [
        " - **setWebhook**"
      ],
      "metadata": {
        "id": "eDToK4vwjkPN"
      }
    },
    {
      "cell_type": "code",
      "source": [
        "import requests\n",
        "\n",
        "response = requests.get(url=f'{base_url}/setWebhook?url={aws_api_gateway_url}')\n",
        "\n",
        "print(json.dumps(json.loads(response.text), indent=2))"
      ],
      "metadata": {
        "colab": {
          "base_uri": "https://localhost:8080/"
        },
        "id": "mCvLEYkljvmZ",
        "outputId": "82742ea7-1f75-4112-9aef-373eff072b1a"
      },
      "execution_count": null,
      "outputs": [
        {
          "output_type": "stream",
          "name": "stdout",
          "text": [
            "{\n",
            "  \"ok\": true,\n",
            "  \"result\": true,\n",
            "  \"description\": \"Webhook was set\"\n",
            "}\n"
          ]
        }
      ]
    },
    {
      "cell_type": "markdown",
      "source": [
        "- **getWebhookInfo**"
      ],
      "metadata": {
        "id": "uXKYu47zk6tt"
      }
    },
    {
      "cell_type": "code",
      "source": [
        "response = requests.get(url=f'{base_url}/getWebhookInfo')\n",
        "\n",
        "print(json.dumps(json.loads(response.text), indent=2))"
      ],
      "metadata": {
        "colab": {
          "base_uri": "https://localhost:8080/"
        },
        "id": "KBhdzPe6lCnY",
        "outputId": "85ae9179-4410-4bec-b88c-888540648ec5"
      },
      "execution_count": null,
      "outputs": [
        {
          "output_type": "stream",
          "name": "stdout",
          "text": [
            "{\n",
            "  \"ok\": true,\n",
            "  \"result\": {\n",
            "    \"url\": \"https://xewka5s0z8.execute-api.sa-east-1.amazonaws.com\",\n",
            "    \"has_custom_certificate\": false,\n",
            "    \"pending_update_count\": 0,\n",
            "    \"max_connections\": 40,\n",
            "    \"ip_address\": \"18.230.7.189\"\n",
            "  }\n",
            "}\n"
          ]
        }
      ]
    },
    {
      "cell_type": "markdown",
      "source": [
        "> **Nota**: não disponibilize o *token* de acesso ao seu *bot* da API de *bots* do **Telegram**."
      ],
      "metadata": {
        "id": "w6axVNYxG1I0"
      }
    },
    {
      "cell_type": "markdown",
      "metadata": {
        "id": "kQ-wge9yHCC3"
      },
      "source": [
        "## 2\\. ETL"
      ]
    },
    {
      "cell_type": "markdown",
      "metadata": {
        "id": "r1MneksdHCC6"
      },
      "source": [
        "Replique as atividades da aula 2."
      ]
    },
    {
      "cell_type": "markdown",
      "source": [
        "2.1. Crie um `bucket` no `AWS S3` para o armazenamento de dados enriquecidos, não se esqueça de adicionar o sufixo `-enriched`."
      ],
      "metadata": {
        "id": "rCCWZtBCHCC7"
      }
    },
    {
      "cell_type": "markdown",
      "source": [
        "- Foi criado o bucket  `modulo-42-ebac-telegram-enriched`\n",
        "\n",
        "![](https://github.com/Genesio-Moreira87/Pipeline-de-Dados-do-Telegram/blob/main/images/criacao%20do%20bucket%20modulo-42-ebac-telegram-enriched.jpg?raw=true)\n",
        "\n"
      ],
      "metadata": {
        "id": "qX6iVww9rdJN"
      }
    },
    {
      "cell_type": "markdown",
      "source": [
        "2.2. Cria uma função no `AWS Lambda` para processar as mensagens JSON de uma única partição do dia anterior (D-1), armazenadas no *bucket* de dados crus. Salve o resultado em um único arquivo PARQUET, também particionado por dia. Não se esqueça de configurar as variáveis de ambiente, de adicionar as permissão de interação com `AWS S3` no `AWS IAM`, de configurar o *timeout* e de adicionar a *layer* com o código do pacote Python PyArrow."
      ],
      "metadata": {
        "id": "cEb2SIgjHg5e"
      }
    },
    {
      "cell_type": "markdown",
      "source": [
        "Vamos seguir as seguintes Etapas:\n",
        " - Lista todos os arquivos JSON de uma única participação da camada crua de um *bucket* do `AWS S3`;\n",
        " - Para cada arquivo listado:\n",
        "  - Faz o *download* do arquivo e carrega o conteúdo da mensagem;\n",
        "  - Executa uma função de *data wrangling*;\n",
        "  - Cria uma tabela do PyArrow e a contatena com as demais.\n",
        " - Persiste a tabela no formato Parquet na camada enriquecida em um *bucket* do `AWS S3`."
      ],
      "metadata": {
        "id": "usX5q4FOsZ2C"
      }
    },
    {
      "cell_type": "markdown",
      "source": [
        "- O código da função:"
      ],
      "metadata": {
        "id": "jGdGGFCm4_ck"
      }
    },
    {
      "cell_type": "code",
      "source": [
        "import logging\n",
        "from datetime import datetime, timedelta, timezone\n",
        "\n",
        "import boto3\n",
        "import pyarrow as pa\n",
        "import pyarrow.parquet as pq\n",
        "\n",
        "\n",
        "def lambda_handler(event: dict, context: dict) -> bool:\n",
        "    RAW_BUCKET = os.environ['AWS_S3_BUCKET']\n",
        "    ENRICHED_BUCKET = os.environ['AWS_S3_ENRICHED']\n",
        "\n",
        "    tzinfo = timezone(offset=timedelta(hours=-3))\n",
        "    date = (datetime.now(tzinfo) - timedelta(days=1)).strftime('%Y-%m-%d')\n",
        "    timestamp = datetime.now(tzinfo).strftime('%Y%m%d%H%M%S%f')\n",
        "\n",
        "    table = None\n",
        "    client = boto3.client('s3')\n",
        "\n",
        "    try:\n",
        "        response = client.list_objects_v2(Bucket=RAW_BUCKET, Prefix=f'telegram/context_date={date}')\n",
        "\n",
        "        for content in response['Contents']:\n",
        "            key = content['Key']\n",
        "            client.download_file(RAW_BUCKET, key, f\"/tmp/{key.split('/')[-1]}\")\n",
        "\n",
        "            # Log para mostrar o conteúdo do arquivo baixado\n",
        "            logging.info(f\"Content of {key}:\")\n",
        "            with open(f\"/tmp/{key.split('/')[-1]}\", mode='r', encoding='utf8') as fp:\n",
        "                logging.info(fp.read())\n",
        "\n",
        "            with open(f\"/tmp/{key.split('/')[-1]}\", mode='r', encoding='utf8') as fp:\n",
        "                data = json.load(fp)\n",
        "                data = data.get(\"message\")\n",
        "\n",
        "            if not data:\n",
        "                logging.warning(f\"Empty 'message' key in {key}\")\n",
        "                continue\n",
        "\n",
        "            parsed_data = parse_data(data=data)\n",
        "            iter_table = pa.Table.from_pydict(mapping=parsed_data)\n",
        "\n",
        "            if table:\n",
        "                table = pa.concat_tables([table, iter_table])\n",
        "            else:\n",
        "                table = iter_table\n",
        "                iter_table = None\n",
        "\n",
        "        if table is not None:\n",
        "            pq.write_table(table=table, where=f'/tmp/{timestamp}.parquet')\n",
        "            client.upload_file(f\"/tmp/{timestamp}.parquet\", ENRICHED_BUCKET, f\"telegram/context_date={date}/{timestamp}.parquet\")\n",
        "\n",
        "            return True\n",
        "        else:\n",
        "            logging.warning(\"No data to process.\")\n",
        "            return False\n",
        "\n",
        "    except Exception as exc:\n",
        "        logging.error(f\"Error: {exc}\")\n",
        "        return False\n"
      ],
      "metadata": {
        "id": "4VEcbDS94umU"
      },
      "execution_count": null,
      "outputs": []
    },
    {
      "cell_type": "markdown",
      "source": [
        "- O código da função de *data wrangling*:"
      ],
      "metadata": {
        "id": "WzATb3Ye48k3"
      }
    },
    {
      "cell_type": "code",
      "source": [
        "def parse_data(data: dict) -> dict:\n",
        "    date = datetime.now().strftime('%Y-%m-%d')\n",
        "    timestamp = datetime.now().strftime('%Y-%m-%d %H:%M:%S')\n",
        "\n",
        "    parsed_data = dict()\n",
        "\n",
        "    for key, value in data.items():\n",
        "        if key == 'from':\n",
        "            for k, v in data[key].items():\n",
        "                if k in ['id', 'is_bot', 'first_name']:\n",
        "                    parsed_data[f\"{key if key == 'chat' else 'user'}_{k}\"] = [v]\n",
        "        elif key == 'chat':\n",
        "            for k, v in data[key].items():\n",
        "                if k in ['id', 'type']:\n",
        "                    parsed_data[f\"{key if key == 'chat' else 'user'}_{k}\"] = [v]\n",
        "        elif key in ['message_id', 'date', 'text']:\n",
        "            parsed_data[key] = [value]\n",
        "\n",
        "    if 'text' not in parsed_data.keys():\n",
        "        parsed_data['text'] = [None]\n",
        "\n",
        "    return parsed_data\n"
      ],
      "metadata": {
        "id": "Lg9z1ht-5N3z"
      },
      "execution_count": null,
      "outputs": []
    },
    {
      "cell_type": "markdown",
      "source": [
        "> **Nota**: Para testar a função, substitua o código `date = (datetime.now(tzinfo) - timedelta(days=1)).strftime('%Y-%m-%d')` por `date = (datetime.now(tzinfo) - timedelta(days=0)).strftime('%Y-%m-%d')`, permitindo assim o processamento de mensagens de um mesmo dia."
      ],
      "metadata": {
        "id": "Yf5a_JKkIOdS"
      }
    },
    {
      "cell_type": "markdown",
      "source": [
        "2.3. Crie uma regra no `AWS Event Bridge` para executar a função do `AWS Lambda` todo dia a meia noite no horário de Brasília (GMT-3)."
      ],
      "metadata": {
        "id": "exu8rdDHHT_h"
      }
    },
    {
      "cell_type": "markdown",
      "source": [
        "- Foi criada a regra para executar a função lambda automaticamente, todos os dias as 00:00.  \n",
        "\n",
        "![](https://github.com/Genesio-Moreira87/Pipeline-de-Dados-do-Telegram/blob/main/images/Amazon%20EventBridge%20%20modulo-42-ebac-telegram-enriched.jpg?raw=true)"
      ],
      "metadata": {
        "id": "keJ8FgAg8Dv-"
      }
    },
    {
      "cell_type": "markdown",
      "metadata": {
        "id": "7v7499xfIjrn"
      },
      "source": [
        "## 3\\. Apresentação"
      ]
    },
    {
      "cell_type": "markdown",
      "metadata": {
        "id": "i4CBpJt3Ijrp"
      },
      "source": [
        "Replique as atividades da aula 3."
      ]
    },
    {
      "cell_type": "markdown",
      "source": [
        "3.1. Cria a tabela no `AWS Athena` que aponte para os dados armazenados no bucket enriquecido do `AWS S3`."
      ],
      "metadata": {
        "id": "sN0dvM8tIviK"
      }
    },
    {
      "cell_type": "markdown",
      "source": [
        "```sql\n",
        "CREATE EXTERNAL TABLE `telegram`(\n",
        "  `message_id` bigint,\n",
        "  `user_id` bigint,\n",
        "  `user_is_bot` boolean,\n",
        "  `user_first_name` string,\n",
        "  `chat_id` bigint,\n",
        "  `chat_type` string,\n",
        "  `text` string,\n",
        "  `date` bigint)\n",
        "PARTITIONED BY (\n",
        "  `context_date` date)\n",
        "ROW FORMAT SERDE\n",
        "  'org.apache.hadoop.hive.ql.io.parquet.serde.ParquetHiveSerDe'\n",
        "STORED AS INPUTFORMAT\n",
        "  'org.apache.hadoop.hive.ql.io.parquet.MapredParquetInputFormat'\n",
        "OUTPUTFORMAT\n",
        "  'org.apache.hadoop.hive.ql.io.parquet.MapredParquetOutputFormat'\n",
        "LOCATION\n",
        "  's3://modulo-42-ebac-telegram-enriched/telegram/'\n",
        "```"
      ],
      "metadata": {
        "id": "zwnE2ts3D1HM"
      }
    },
    {
      "cell_type": "markdown",
      "source": [
        "- AWS Athena  \n",
        "\n",
        "![](https://github.com/Genesio-Moreira87/Pipeline-de-Dados-do-Telegram/blob/main/images/Cria%C3%A7%C3%A3o%20de%20tabela%20externa%20_telegram_%20no%20AWS%20Athena.png?raw=true)  "
      ],
      "metadata": {
        "id": "NoxHhWgwFj1x"
      }
    },
    {
      "cell_type": "markdown",
      "source": [
        "3.2. Execute o comando `MSCK REPAIR TABLE <nome-tabela>` para carregar as partições."
      ],
      "metadata": {
        "id": "w3Lf4CPsI--8"
      }
    },
    {
      "cell_type": "markdown",
      "source": [
        "![](https://github.com/Genesio-Moreira87/Pipeline-de-Dados-do-Telegram/blob/main/images/carregando%20particao%20no%20athena.jpg?raw=true)"
      ],
      "metadata": {
        "id": "d4YxzcUuGNP4"
      }
    },
    {
      "cell_type": "markdown",
      "source": [
        "3.3. Execute as consultas SQL para explorar os dados."
      ],
      "metadata": {
        "id": "5o3mNIKiJKqL"
      }
    },
    {
      "cell_type": "markdown",
      "source": [
        "```sql\n",
        "SELECT * FROM `telegram` LIMIT 10;\n",
        "```"
      ],
      "metadata": {
        "id": "XL1DJIH0HKUV"
      }
    },
    {
      "cell_type": "markdown",
      "source": [
        "![](https://github.com/Genesio-Moreira87/Pipeline-de-Dados-do-Telegram/blob/main/images/SELECT%20%20FROM%20telegram%20LIMIT%2010.png?raw=true)  "
      ],
      "metadata": {
        "id": "yphZr31ZHhlH"
      }
    },
    {
      "cell_type": "markdown",
      "source": [
        "- Quantidade de mensagens por dia."
      ],
      "metadata": {
        "id": "-GGnCpsHH8b8"
      }
    },
    {
      "cell_type": "markdown",
      "source": [
        "```sql\n",
        "SELECT\n",
        "  context_date,\n",
        "  count(1) AS \"message_amount\"\n",
        "FROM \"telegram\"\n",
        "GROUP BY context_date\n",
        "ORDER BY context_date DESC\n",
        "```"
      ],
      "metadata": {
        "id": "g4a-4k_SH6FV"
      }
    },
    {
      "cell_type": "markdown",
      "source": [
        "![](https://github.com/Genesio-Moreira87/Pipeline-de-Dados-do-Telegram/blob/main/images/Quantidade%20de%20mensagens%20por%20dia.jpg?raw=true)  "
      ],
      "metadata": {
        "id": "2QLzTOoAI3UH"
      }
    },
    {
      "cell_type": "markdown",
      "source": [
        "- Quantidade de mensagens por usuário por dia."
      ],
      "metadata": {
        "id": "ApsJQpo4I_4d"
      }
    },
    {
      "cell_type": "markdown",
      "source": [
        "```sql\n",
        "SELECT\n",
        "  user_id,\n",
        "  user_first_name,\n",
        "  context_date,\n",
        "  count(1) AS \"message_amount\"\n",
        "FROM \"telegram\"\n",
        "GROUP BY\n",
        "  user_id,\n",
        "  user_first_name,\n",
        "  context_date\n",
        "ORDER BY context_date DESC\n",
        "```"
      ],
      "metadata": {
        "id": "VYQBRg-SJBeT"
      }
    },
    {
      "cell_type": "markdown",
      "source": [
        "![](https://github.com/Genesio-Moreira87/Pipeline-de-Dados-do-Telegram/blob/main/images/Quantidade%20de%20mensagens%20por%20usu%C3%A1rio%20por%20dia.jpg?raw=true)"
      ],
      "metadata": {
        "id": "e5LiTKYjJ8k5"
      }
    },
    {
      "cell_type": "markdown",
      "source": [
        "- Média do tamanho das mensagens por usuário por dia."
      ],
      "metadata": {
        "id": "p6AAx32JKH9g"
      }
    },
    {
      "cell_type": "markdown",
      "source": [
        "```sql\n",
        "SELECT\n",
        "  user_id,\n",
        "  user_first_name,\n",
        "  context_date,\n",
        "  CAST(AVG(length(text)) AS INT) AS \"average_message_length\"\n",
        "FROM \"telegram\"\n",
        "GROUP BY\n",
        "  user_id,\n",
        "  user_first_name,\n",
        "  context_date\n",
        "ORDER BY context_date DESC\n",
        "```"
      ],
      "metadata": {
        "id": "2waQHd5fKJAB"
      }
    },
    {
      "cell_type": "markdown",
      "source": [
        "![](https://github.com/Genesio-Moreira87/Pipeline-de-Dados-do-Telegram/blob/main/images/M%C3%A9dia%20do%20tamanho%20das%20mensagens%20por%20usu%C3%A1rio%20por%20dia.jpg?raw=true)"
      ],
      "metadata": {
        "id": "ULJGWEGoLBlB"
      }
    },
    {
      "cell_type": "markdown",
      "source": [
        "- Quantidade de mensagens por hora por dia da semana por número da semana."
      ],
      "metadata": {
        "id": "mfBdo7g2LJgl"
      }
    },
    {
      "cell_type": "markdown",
      "source": [
        "```sql\n",
        "WITH\n",
        "parsed_date_cte AS (\n",
        "    SELECT\n",
        "        *,\n",
        "        CAST(date_format(from_unixtime(\"date\"),'%Y-%m-%d %H:%i:%s') AS timestamp) AS parsed_date\n",
        "    FROM \"telegram\"\n",
        "),\n",
        "hour_week_cte AS (\n",
        "    SELECT\n",
        "        *,\n",
        "        EXTRACT(hour FROM parsed_date) AS parsed_date_hour,\n",
        "        EXTRACT(dow FROM parsed_date) AS parsed_date_weekday,\n",
        "        EXTRACT(week FROM parsed_date) AS parsed_date_weeknum\n",
        "    FROM parsed_date_cte\n",
        ")\n",
        "SELECT\n",
        "    parsed_date_hour,\n",
        "    parsed_date_weekday,\n",
        "    parsed_date_weeknum,\n",
        "    count(1) AS \"message_amount\"\n",
        "FROM hour_week_cte\n",
        "GROUP BY\n",
        "    parsed_date_hour,\n",
        "    parsed_date_weekday,\n",
        "    parsed_date_weeknum\n",
        "ORDER BY\n",
        "    parsed_date_weeknum,\n",
        "    parsed_date_weekday\n",
        "```"
      ],
      "metadata": {
        "id": "-IffxDxxLM46"
      }
    },
    {
      "cell_type": "markdown",
      "source": [
        "![](https://github.com/Genesio-Moreira87/Pipeline-de-Dados-do-Telegram/blob/main/images/Quantidade%20de%20mensagens%20por%20hora%20por%20dia%20da%20semana%20por%20n%C3%BAmero%20da%20semana1.1.jpg?raw=true)"
      ],
      "metadata": {
        "id": "-Xkyh3b8OEF7"
      }
    },
    {
      "cell_type": "markdown",
      "source": [
        "- `parsed_date_hour`: representa a horas do tipo int, no caso acima temos as horas 08 e 11 da noite e 2 da tarde.  \n",
        "- `parsed_date_weekday`: representa o dia da semana no tipo int, da forma 0 = Domingo, 1 = Segunda-Feira sucesivamente até o 6 = Sabádo.  \n",
        "- `parsed_date_weeknum`: representa o numero da semana do ano, no nosso exemplo a 3 semana do ano de 2024.\n",
        "- `message_amount`: representa a quantidade total de mensagens."
      ],
      "metadata": {
        "id": "NCK45uIMo1r6"
      }
    },
    {
      "cell_type": "markdown",
      "source": [
        "- Palavras mais frequentes nas mensagens no chat"
      ],
      "metadata": {
        "id": "iuCHtf1Pv1o4"
      }
    },
    {
      "cell_type": "markdown",
      "source": [
        "```sql\n",
        "SELECT palavra, COUNT(*) AS frequencia\n",
        "FROM (\n",
        "  SELECT TRIM(REGEXP_REPLACE(word, '[^a-zA-Z0-9]', '')) AS palavra\n",
        "  FROM telegram\n",
        "  CROSS JOIN UNNEST(SPLIT(text, ' ')) AS t(word)\n",
        ") palavras\n",
        "WHERE palavra <> ''\n",
        "GROUP BY palavra\n",
        "ORDER BY frequencia DESC\n",
        "LIMIT 10;\n",
        "\n",
        "\n",
        "```"
      ],
      "metadata": {
        "id": "4LKJcsOtv9Lx"
      }
    },
    {
      "cell_type": "markdown",
      "source": [
        "![](https://github.com/Genesio-Moreira87/Pipeline-de-Dados-do-Telegram/blob/main/images/Palavras%20mais%20frequentes%20nas%20mensagens%20no%20chat.jpg?raw=true)"
      ],
      "metadata": {
        "id": "cOVtgxOL0bcY"
      }
    },
    {
      "cell_type": "markdown",
      "source": [
        "**Acima visualizamos as top 10 palavras mais utilizadas no chat.**"
      ],
      "metadata": {
        "id": "3JZ1UH2f0pxD"
      }
    },
    {
      "cell_type": "markdown",
      "source": [
        "- Análise de users bots vs. usuários humanos no chat, e o total de mensagens no chat.\n",
        "\n",
        "\n",
        "\n",
        "\n",
        "\n"
      ],
      "metadata": {
        "id": "yuvACpS11JsP"
      }
    },
    {
      "cell_type": "markdown",
      "source": [
        "```sql\n",
        "SELECT user_is_bot, user_first_name, COUNT(*) AS total_mensagens\n",
        "FROM telegram\n",
        "GROUP BY user_is_bot, user_first_name;\n",
        "\n",
        "```"
      ],
      "metadata": {
        "id": "9zTkU_Hg14QN"
      }
    },
    {
      "cell_type": "markdown",
      "source": [
        "![](https://github.com/Genesio-Moreira87/Pipeline-de-Dados-do-Telegram/blob/main/images/An%C3%A1lise%20de%20users%20bots%20vs.%20usu%C3%A1rios%20humanos%20no%20chat,%20e%20o%20total%20de%20mensagens%20no%20chat.jpg?raw=true)"
      ],
      "metadata": {
        "id": "ZGNH9s3R28lY"
      }
    },
    {
      "cell_type": "markdown",
      "source": [
        "No caso acima, observamos que o usuário `Aurora`, enviou `12` mensagens no chat e não é bot, pois a coluna `user_is_bot` = false."
      ],
      "metadata": {
        "id": "2WPC7qFa3GKm"
      }
    },
    {
      "cell_type": "markdown",
      "source": [
        "- Média de Palavras por Mensagem e organizado por data"
      ],
      "metadata": {
        "id": "naRruLta31vI"
      }
    },
    {
      "cell_type": "markdown",
      "source": [
        "```sql\n",
        "SELECT context_date, AVG(CARDINALITY(SPLIT(text, ' '))) AS media_palavras_por_mensagem\n",
        "FROM telegram\n",
        "WHERE text IS NOT NULL\n",
        "GROUP BY context_date;\n",
        "```"
      ],
      "metadata": {
        "id": "k_xKbAHGL4B8"
      }
    },
    {
      "cell_type": "markdown",
      "source": [
        "![](https://github.com/Genesio-Moreira87/Pipeline-de-Dados-do-Telegram/blob/main/images/M%C3%A9dia%20de%20Palavras%20por%20Mensagem%20e%20organizado%20por%20data.jpg?raw=true)"
      ],
      "metadata": {
        "id": "YgqZE4nkNWik"
      }
    },
    {
      "cell_type": "markdown",
      "source": [
        "Media de palavras por mensagem no dia `15-01-2024` = `2.83`"
      ],
      "metadata": {
        "id": "CyzhHnHeNbG5"
      }
    },
    {
      "cell_type": "markdown",
      "metadata": {
        "id": "TwA9AmeSInp8"
      },
      "source": [
        "## 4\\. Storytelling"
      ]
    },
    {
      "cell_type": "markdown",
      "source": [
        " - **Arquitetura**"
      ],
      "metadata": {
        "id": "RsXLNzeANug2"
      }
    },
    {
      "cell_type": "markdown",
      "source": [
        "![](https://github.com/Genesio-Moreira87/Pipeline-de-Dados-do-Telegram/blob/main/images/Profissao%20Analista%20de%20dados%20M42%20Material%20de%20apoio%20arch%20.png?raw=true)"
      ],
      "metadata": {
        "id": "6NkvxGT1N6Su"
      }
    },
    {
      "cell_type": "markdown",
      "source": [
        "**Contexto:**\n",
        "\n",
        "No cenário atual, a integração de chatbots tornou-se essencial para a interação online. Os chatbots, programas de computador que simulam a conversa humana, geram dados cruciais que demandam uma gestão eficiente. A distinção entre dados transacionais e analíticos, sendo os primeiros gerados em tempo real e os segundos analisados para insights, justifica a criação do projeto.\n",
        "\n",
        "**Arquitetura:**\n",
        "\n",
        "- **Sistema Transacional:**\n",
        "\n",
        "    Utilizamos o Telegram como plataforma para chatbots, aproveitando sua API eficaz para desenvolvimento e gerenciamento. A interação em tempo real gera dados transacionais, fornecendo insights valiosos sobre o comportamento dos usuários.\n",
        "\n",
        "**Sistema Analítico:**\n",
        "\n",
        "- **Ingestão:**\n",
        "\n",
        "  O processo de ingestão coleta dados diretamente da API do Telegram, usando métodos como getUpdates, garantindo a captura de todos os dados transacionais.  \n",
        "\n",
        "**ETL (Extract, Transform, Load):**\n",
        "\n",
        "A fase de ETL transforma os dados brutos em formato analítico. Manipulações e limpezas são realizadas antes de carregar os dados em um repositório analítico.  \n",
        "**Apresentação:**  \n",
        "\n",
        "Utilizando consultas SQL e visualizações gráficas, apresentamos os dados analíticos de forma compreensível. Ferramentas como AWS Athena facilitam a execução de consultas diretamente no repositório analítico.  \n",
        "\n",
        "**Lambda:**\n",
        "\n",
        "O AWS Lambda, parte integrante do projeto, desempenha um papel crucial na execução de código serverless. Pode ser empregado para automatizar tarefas, como a execução de ETLs em resposta a eventos específicos, garantindo eficiência e escalabilidade.\n",
        "\n",
        "**Análise Exploratória de Dados:**\n",
        "\n",
        "- **Fonte:**\n",
        "\n",
        "  Os dados são analisados na fonte original, a API de bots do Telegram através do método getUpdates. Esta fonte oferece detalhes sobre interações de usuários, incluindo identificadores, mensagens e carimbos de data/hora.\n",
        "\n",
        "**Destino:**\n",
        "\n",
        "Na fase de apresentação, consultas SQL são utilizadas para explorar dados em profundidade. Potenciais visualizações incluem gráficos de tendências, contagem de mensagens por usuário e análise de palavras-chave mais frequentes, facilitando a compreensão dos padrões de interação dos usuários.\n",
        "\n",
        "Essa abordagem de análise exploratória de dados fornece insights valiosos, essenciais para aprimorar a experiência do usuário no chatbot do Telegram. O AWS Lambda, ao integrar-se ao projeto, assegura a eficiência e automação contínua das tarefas."
      ],
      "metadata": {
        "id": "axZAiZ7QOp_q"
      }
    },
    {
      "cell_type": "markdown",
      "source": [
        "# **Melhorias**"
      ],
      "metadata": {
        "id": "kqMysAkpPm07"
      }
    },
    {
      "cell_type": "markdown",
      "metadata": {
        "id": "Xhpcu4TNInp9"
      },
      "source": [
        "- **Infraestrutura**"
      ]
    },
    {
      "cell_type": "markdown",
      "source": [
        "A tabela do `AWS Athena` são contem atualização automática de novas partiçoes. Uma melhoria seria adicionar essa funcionalidade no `AWS Lambda`."
      ],
      "metadata": {
        "id": "AEnTvoWHPiqE"
      }
    },
    {
      "cell_type": "markdown",
      "source": [
        "- **Dados**"
      ],
      "metadata": {
        "id": "1yb4n2qTPyqS"
      }
    },
    {
      "cell_type": "markdown",
      "source": [
        "No projeto, estamos transformando e apresentando apenas os dados referentes a mensagens de texto. Contudo, estamos ingerindo todas as mensagens que são enviadas ao grupo do **Telegram**: vídeo, áudio, arquivos, etc. Uma melhoria seria adicionar novos campos na função do `AWS Lambda` da etapa de ETL e na tabela do `AWS Athena` da etapa de ingestão, ou ainda criar uma novas funções de ETL e tabelas de apresentação."
      ],
      "metadata": {
        "id": "Oh-V5WAXP3Eu"
      }
    },
    {
      "cell_type": "markdown",
      "source": [
        " - **Consultas**"
      ],
      "metadata": {
        "id": "nUyIQNjEP7sX"
      }
    },
    {
      "cell_type": "markdown",
      "source": [
        "A tabela do `AWS Athena` da camada de apresentação contem dados que apresentam diversas oportunidades de criação de novas consultas analíticas. Uma melhoria seria a criação de novas consultas SQL, respondendo novas perguntas e trazendo novos insights."
      ],
      "metadata": {
        "id": "XDTRHMiMQAzK"
      }
    },
    {
      "cell_type": "markdown",
      "source": [
        "# Autoria"
      ],
      "metadata": {
        "id": "C3QAcAkgQKll"
      }
    },
    {
      "cell_type": "markdown",
      "source": [
        "Autor: Genésio Moreira Coutinho  \n",
        "Linkedin: [link do Linkedin](https://www.linkedin.com/in/genesio-coutinho/)  \n",
        "GitHub: [Link do GitHub](https://github.com/Genesio-Moreira87)  \n",
        "Kaggle: [Link do Kaggle](https://www.kaggle.com/genesiomoreira)  \n",
        "Email: genesiomoreiracoutinho@gmail.com\n"
      ],
      "metadata": {
        "id": "4eUXYoDwQPEL"
      }
    },
    {
      "cell_type": "markdown",
      "source": [
        "Duvidas, sugestões e melhoria, sinta-se a vontade de me contatar para um bate papo. Obrigado."
      ],
      "metadata": {
        "id": "3X3J_qStQ2ie"
      }
    }
  ]
}